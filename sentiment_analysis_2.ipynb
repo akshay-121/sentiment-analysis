{
  "nbformat": 4,
  "nbformat_minor": 0,
  "metadata": {
    "colab": {
      "name": "sentiment analysis 2",
      "provenance": [],
      "collapsed_sections": [],
      "include_colab_link": true
    },
    "kernelspec": {
      "name": "python3",
      "display_name": "Python 3"
    },
    "accelerator": "TPU"
  },
  "cells": [
    {
      "cell_type": "markdown",
      "metadata": {
        "id": "view-in-github",
        "colab_type": "text"
      },
      "source": [
        "<a href=\"https://colab.research.google.com/github/akshay-121/sentiment-analysis/blob/master/sentiment_analysis_2.ipynb\" target=\"_parent\"><img src=\"https://colab.research.google.com/assets/colab-badge.svg\" alt=\"Open In Colab\"/></a>"
      ]
    },
    {
      "cell_type": "code",
      "metadata": {
        "id": "-1aCEgG2M76F",
        "colab_type": "code",
        "colab": {
          "base_uri": "https://localhost:8080/",
          "height": 125
        },
        "outputId": "51d7bb1a-e8be-437a-ba74-8300f75125c6"
      },
      "source": [
        "from google.colab import drive\n",
        "drive.mount('/content/drive')"
      ],
      "execution_count": null,
      "outputs": [
        {
          "output_type": "stream",
          "text": [
            "Go to this URL in a browser: https://accounts.google.com/o/oauth2/auth?client_id=947318989803-6bn6qk8qdgf4n4g3pfee6491hc0brc4i.apps.googleusercontent.com&redirect_uri=urn%3aietf%3awg%3aoauth%3a2.0%3aoob&response_type=code&scope=email%20https%3a%2f%2fwww.googleapis.com%2fauth%2fdocs.test%20https%3a%2f%2fwww.googleapis.com%2fauth%2fdrive%20https%3a%2f%2fwww.googleapis.com%2fauth%2fdrive.photos.readonly%20https%3a%2f%2fwww.googleapis.com%2fauth%2fpeopleapi.readonly\n",
            "\n",
            "Enter your authorization code:\n",
            "··········\n",
            "Mounted at /content/drive\n"
          ],
          "name": "stdout"
        }
      ]
    },
    {
      "cell_type": "code",
      "metadata": {
        "id": "y2b1jboANGz7",
        "colab_type": "code",
        "colab": {
          "base_uri": "https://localhost:8080/",
          "height": 70
        },
        "outputId": "9256f8a5-e74f-4cfb-821e-ba5382cc5b5c"
      },
      "source": [
        "import pandas as pd\n",
        "import pickle\n",
        "import re\n",
        "import string\n",
        "import numpy as np\n",
        "\n",
        "import tensorflow as tf\n",
        "print(tf.__version__)\n",
        "\n",
        "import matplotlib.pyplot as plt\n",
        "%matplotlib inline\n",
        "\n",
        "import nltk\n",
        "from nltk.corpus import stopwords\n",
        "nltk.download('stopwords')\n",
        "from  nltk.stem import SnowballStemmer\n",
        "\n",
        "\n",
        "from tensorflow.keras.preprocessing.text import Tokenizer\n",
        "from tensorflow.keras.preprocessing.sequence import pad_sequences\n",
        "from tensorflow.keras.utils import to_categorical\n",
        "from tensorflow.keras import regularizers\n",
        "from tensorflow.keras.layers import Activation, Embedding, Dropout, Flatten, MaxPooling1D, LSTM, Dense"
      ],
      "execution_count": null,
      "outputs": [
        {
          "output_type": "stream",
          "text": [
            "2.2.0\n",
            "[nltk_data] Downloading package stopwords to /root/nltk_data...\n",
            "[nltk_data]   Unzipping corpora/stopwords.zip.\n"
          ],
          "name": "stdout"
        }
      ]
    },
    {
      "cell_type": "code",
      "metadata": {
        "id": "vlSH_kUgOnVA",
        "colab_type": "code",
        "colab": {}
      },
      "source": [
        "stop_words = stopwords.words(\"english\")\n",
        "stemmer =  SnowballStemmer(\"english\")\n",
        "\n",
        "embedding_dim = 100\n",
        "max_length = 100\n",
        "trunc_type='post'\n",
        "padding_type='post'\n",
        "oov_tok = \"<OOV>\"\n",
        "training_size = 1600000"
      ],
      "execution_count": null,
      "outputs": []
    },
    {
      "cell_type": "code",
      "metadata": {
        "id": "t-Y2hxqnxdUX",
        "colab_type": "code",
        "colab": {
          "base_uri": "https://localhost:8080/",
          "height": 34
        },
        "outputId": "e6e0dfaa-69ac-4ade-b7b9-5fda1c80ac06"
      },
      "source": [
        "print(len(stop_words))\n",
        "stop_words = ['i', 'me', 'my', 'myself', 'we', 'our', 'ours', 'ourselves', 'you', \"you're\", \"you've\", \"you'll\", \"you'd\", 'your', 'yours', 'yourself', 'yourselves', 'he', 'him', 'his', 'himself', 'she', \"she's\", 'her', 'hers', 'herself', 'it', \"it's\", 'its', 'itself', 'they', 'them', 'their', 'theirs', 'themselves', 'what', 'which', 'who', 'whom', 'this', 'that', \"that'll\", 'these', 'those', 'am', 'is', 'are', 'was', 'were', 'be', 'been', 'being', 'have', 'has', 'had', 'having', 'do', 'does', 'did', 'doing', 'a', 'an', 'the', 'and', 'but', 'if', 'or', 'because', 'as', 'until', 'while', 'of', 'at', 'by', 'for', 'with', 'about', 'against', 'between', 'into', 'through', 'during', 'before', 'after', 'above', 'below', 'to', 'from', 'up', 'down', 'in', 'out', 'on', 'off', 'over', 'under', 'again', 'further', 'then', 'once', 'here', 'there', 'when', 'where', 'why', 'how', 'all', 'any', 'both', 'each', 'few', 'more', 'most', 'other', 'some', 'such', 'nor', 'only', 'own', 'same', 'so', 'than', 'too', 'very', 's', 't', 'can', 'will', 'just', 'don', 'should', \"should've\", 'now', 'd', 'll', 'm', 'o', 're', 've', 'y', 'ma', 'mightn', 'mustn', 'needn', 'shan']\n"
      ],
      "execution_count": null,
      "outputs": [
        {
          "output_type": "stream",
          "text": [
            "179\n"
          ],
          "name": "stdout"
        }
      ]
    },
    {
      "cell_type": "code",
      "metadata": {
        "id": "5WfB_3NPF2pZ",
        "colab_type": "code",
        "colab": {
          "base_uri": "https://localhost:8080/",
          "height": 34
        },
        "outputId": "1a8219ee-665b-462f-bc29-8a2082fc47ae"
      },
      "source": [
        "print(len(stop_words))"
      ],
      "execution_count": null,
      "outputs": [
        {
          "output_type": "stream",
          "text": [
            "145\n"
          ],
          "name": "stdout"
        }
      ]
    },
    {
      "cell_type": "code",
      "metadata": {
        "id": "xUJvODe1NHAf",
        "colab_type": "code",
        "colab": {}
      },
      "source": [
        "DATASET_COLUMNS = [\"target\", \"ids\", \"date\", \"flag\", \"user\", \"text\"]\n",
        "DATASET_ENCODING = \"ISO-8859-1\""
      ],
      "execution_count": null,
      "outputs": []
    },
    {
      "cell_type": "code",
      "metadata": {
        "id": "8z3KGgeONHKj",
        "colab_type": "code",
        "colab": {}
      },
      "source": [
        "#no need to run this cell as loaded preprocessed data is below\n",
        "dataset_path = '/content/drive/My Drive/trainingandtestdata/training_cleaned.csv'\n",
        "df = pd.read_csv(dataset_path, encoding =DATASET_ENCODING , names=DATASET_COLUMNS)"
      ],
      "execution_count": null,
      "outputs": []
    },
    {
      "cell_type": "code",
      "metadata": {
        "id": "XXL5q1-ANHVB",
        "colab_type": "code",
        "colab": {}
      },
      "source": [
        "#test data\n",
        "dataset_path_test = '/content/drive/My Drive/trainingandtestdata/testdata.manual.2009.06.14.csv'\n",
        "df_test = pd.read_csv(dataset_path_test, encoding =DATASET_ENCODING , names=DATASET_COLUMNS)\n",
        "\n",
        "df_filtered = df_test[df_test['target'] != 2]  #as test data have 3 labels, 0:negative, 2:neutral, 4:positive, so removing neutral data\n"
      ],
      "execution_count": null,
      "outputs": []
    },
    {
      "cell_type": "code",
      "metadata": {
        "id": "NZtSecLONHfp",
        "colab_type": "code",
        "colab": {}
      },
      "source": [
        "#preprocessing functions\n",
        "def strip_links(text):\n",
        "    link_regex    = re.compile('((https?):((//)|(\\\\\\\\))+([\\w\\d:#@%/;$()~_?\\+-=\\\\\\.&](#!)?)*)', re.DOTALL)\n",
        "    links         = re.findall(link_regex, text)\n",
        "    for link in links:\n",
        "        text = text.replace(link[0], ', ')    \n",
        "    return text\n",
        "\n",
        "def strip_all_entities(text):\n",
        "    entity_prefixes = ['@','#']\n",
        "    for separator in  string.punctuation:\n",
        "        if separator not in entity_prefixes :\n",
        "            text = text.replace(separator,' ')\n",
        "    words = []\n",
        "    for word in text.split():\n",
        "        word = word.strip()\n",
        "        if word:\n",
        "            if word[0] not in entity_prefixes:\n",
        "                words.append(word)\n",
        "    return ' '.join(words)\n",
        "\n",
        "def preprocess(line):\n",
        "    line = line.lower()\n",
        "    #stopwords removal\n",
        "    for word in stop_words:\n",
        "      token = \" \" + word + \" \"\n",
        "      line = line.replace(token, \" \")\n",
        "      line = line.replace(\"  \", \" \")\n",
        "    #stemming   \n",
        "    tokens = []\n",
        "    for token in line.split():\n",
        "      tokens.append(stemmer.stem(token))\n",
        "    return \" \".join(tokens)\n"
      ],
      "execution_count": null,
      "outputs": []
    },
    {
      "cell_type": "code",
      "metadata": {
        "id": "zzcTSnOkQDf_",
        "colab_type": "code",
        "colab": {}
      },
      "source": [
        "#load cleaned data after preprocessing\n",
        "df = pd.read_csv('/content/drive/My Drive/preprocess_text_label.csv')\n",
        "\n",
        "sentence = df['text'].astype(str)\n",
        "sentence = np.array(sentence)\n",
        "y = df['target'].astype(float)"
      ],
      "execution_count": null,
      "outputs": []
    },
    {
      "cell_type": "code",
      "metadata": {
        "id": "En62Z5_cNHrO",
        "colab_type": "code",
        "colab": {
          "base_uri": "https://localhost:8080/",
          "height": 122
        },
        "outputId": "082c44ca-c2af-401c-b047-095a5043ceb1"
      },
      "source": [
        "#test data\n",
        "df_filtered.text = df_filtered.text.apply(lambda x: strip_links(x))\n",
        "df_filtered.text = df_filtered.text.apply(lambda x: strip_all_entities(x))\n",
        "df_filtered.text = df_filtered.text.apply(lambda x: preprocess(x))\n",
        "\n",
        "df_t = df_filtered.drop(columns=['ids','date','flag','user'])\n",
        "df_t['text'] = df_t['text'].astype(str)\n",
        "df_t['target'] = df_t['target'].astype(float)\n",
        "\n",
        "x_test = df_t['text'].astype(str)\n",
        "x_test = np.array(x_test)\n",
        "y_test = df_t['target'].astype(float)"
      ],
      "execution_count": null,
      "outputs": [
        {
          "output_type": "stream",
          "text": [
            "/usr/local/lib/python3.6/dist-packages/pandas/core/generic.py:5303: SettingWithCopyWarning: \n",
            "A value is trying to be set on a copy of a slice from a DataFrame.\n",
            "Try using .loc[row_indexer,col_indexer] = value instead\n",
            "\n",
            "See the caveats in the documentation: https://pandas.pydata.org/pandas-docs/stable/user_guide/indexing.html#returning-a-view-versus-a-copy\n",
            "  self[name] = value\n"
          ],
          "name": "stderr"
        }
      ]
    },
    {
      "cell_type": "code",
      "metadata": {
        "id": "b9UGFS6sNI7r",
        "colab_type": "code",
        "colab": {}
      },
      "source": [
        "#tokenizer\n",
        "\n",
        "tokenizer= Tokenizer(oov_token=oov_tok)\n",
        "tokenizer.fit_on_texts(sentence)\n",
        "#word_index = tokenizer.word_index         #will not run this line of code as this is already saved and can be loaded easily\n",
        "#vocab_size=len(word_index)"
      ],
      "execution_count": null,
      "outputs": []
    },
    {
      "cell_type": "code",
      "metadata": {
        "id": "6thcYQnFIrci",
        "colab_type": "code",
        "colab": {}
      },
      "source": [
        "word_index = tokenizer.word_index\n",
        "vocab_size = len(word_index)"
      ],
      "execution_count": null,
      "outputs": []
    },
    {
      "cell_type": "code",
      "metadata": {
        "id": "3bS8YGD-fx9P",
        "colab_type": "code",
        "colab": {}
      },
      "source": [
        "#saving tokenizer\n",
        "pickle.dump(tokenizer, open(\"/content/drive/My Drive/sentiment analysis/tokenizer2.p\", \"wb\"))"
      ],
      "execution_count": null,
      "outputs": []
    },
    {
      "cell_type": "code",
      "metadata": {
        "id": "64XufXvrqsyJ",
        "colab_type": "code",
        "colab": {
          "base_uri": "https://localhost:8080/",
          "height": 122
        },
        "outputId": "ea9b1c13-b49b-48a3-9d6f-6582c54c5b12"
      },
      "source": [
        "print(y[:5])"
      ],
      "execution_count": null,
      "outputs": [
        {
          "output_type": "stream",
          "text": [
            "0    0.0\n",
            "1    0.0\n",
            "2    4.0\n",
            "3    0.0\n",
            "4    0.0\n",
            "Name: target, dtype: float64\n"
          ],
          "name": "stdout"
        }
      ]
    },
    {
      "cell_type": "code",
      "metadata": {
        "id": "AjXpf6kGNJIm",
        "colab_type": "code",
        "colab": {
          "base_uri": "https://localhost:8080/",
          "height": 34
        },
        "outputId": "1fce1663-7e45-4b6f-e306-d82c13538d6c"
      },
      "source": [
        "##wordindex save\n",
        "#pickle.dump( word_index, open(\"/content/drive/My Drive/wordindex.p\", \"wb\"))\n",
        "\n",
        "#load word index file\n",
        "word_index = pickle.load(open(\"/content/drive/My Drive/sentiment analysis/wordindex.p\", \"rb\"))\n",
        "\n",
        "vocab_size = len(word_index)\n",
        "print(vocab_size)"
      ],
      "execution_count": null,
      "outputs": [
        {
          "output_type": "stream",
          "text": [
            "247382\n"
          ],
          "name": "stdout"
        }
      ]
    },
    {
      "cell_type": "code",
      "metadata": {
        "id": "MsE-I0sUNJSh",
        "colab_type": "code",
        "colab": {
          "base_uri": "https://localhost:8080/",
          "height": 34
        },
        "outputId": "68495549-0dec-4dcc-ee08-96f9559c5056"
      },
      "source": [
        "print(vocab_size)\n",
        "sequences = tokenizer.texts_to_sequences(sentence)\n",
        "padded = pad_sequences(sequences, maxlen=max_length, padding = padding_type, truncating=trunc_type)"
      ],
      "execution_count": null,
      "outputs": [
        {
          "output_type": "stream",
          "text": [
            "247382\n"
          ],
          "name": "stdout"
        }
      ]
    },
    {
      "cell_type": "code",
      "metadata": {
        "id": "3ikzrB5RNJba",
        "colab_type": "code",
        "colab": {}
      },
      "source": [
        "#test data \n",
        "t_seq = tokenizer.texts_to_sequences(x_test)\n",
        "t_pad = pad_sequences(t_seq, maxlen=max_length, padding=padding_type, truncating=trunc_type)\n",
        "\n",
        "y_test = y_test/4.0\n",
        "test_seq = t_pad\n"
      ],
      "execution_count": null,
      "outputs": []
    },
    {
      "cell_type": "code",
      "metadata": {
        "id": "SsARjAxQNJkl",
        "colab_type": "code",
        "colab": {}
      },
      "source": [
        "#no need of this if we are not training model\n",
        "train_val_split = int(0.9 * training_size)\n",
        "\n",
        "train_sequences = padded[0:train_val_split] \n",
        "val_sequences = padded[train_val_split:]\n",
        "train_labels  = y[0:train_val_split] \n",
        "val_labels = y[train_val_split:]\n",
        "train_labels= train_labels/4.0              #positive labels were 4.0. so, making them 1.0\n",
        "val_labels = val_labels/4.0"
      ],
      "execution_count": null,
      "outputs": []
    },
    {
      "cell_type": "code",
      "metadata": {
        "id": "Vj-xvoNnNJwM",
        "colab_type": "code",
        "colab": {
          "base_uri": "https://localhost:8080/",
          "height": 210
        },
        "outputId": "2328e063-666c-4760-b713-ddb7ae7c7689"
      },
      "source": [
        "#no need to run this as we already have saved model\n",
        "\n",
        "# Note this is the 100 dimension version of GloVe from Stanford\n",
        "!wget --no-check-certificate \\\n",
        "    https://storage.googleapis.com/laurencemoroney-blog.appspot.com/glove.6B.100d.txt \\\n",
        "    -O /tmp/glove.6B.100d.txt\n",
        "embeddings_index = {};\n",
        "with open('/tmp/glove.6B.100d.txt') as file:\n",
        "    for line in file:\n",
        "        values = line.split();\n",
        "        word = values[0];\n",
        "        coefs = np.asarray(values[1:], dtype='float32');\n",
        "        embeddings_index[word] = coefs;\n",
        "\n",
        "embeddings_matrix = np.zeros((vocab_size+1, embedding_dim));\n",
        "for word, i in word_index.items():\n",
        "    embedding_vector = embeddings_index.get(word);\n",
        "    if embedding_vector is not None:\n",
        "        embeddings_matrix[i] = embedding_vector;"
      ],
      "execution_count": null,
      "outputs": [
        {
          "output_type": "stream",
          "text": [
            "--2020-06-25 06:22:50--  https://storage.googleapis.com/laurencemoroney-blog.appspot.com/glove.6B.100d.txt\n",
            "Resolving storage.googleapis.com (storage.googleapis.com)... 74.125.70.128, 2607:f8b0:4001:c01::80\n",
            "Connecting to storage.googleapis.com (storage.googleapis.com)|74.125.70.128|:443... connected.\n",
            "HTTP request sent, awaiting response... 200 OK\n",
            "Length: 347116733 (331M) [text/plain]\n",
            "Saving to: ‘/tmp/glove.6B.100d.txt’\n",
            "\n",
            "/tmp/glove.6B.100d. 100%[===================>] 331.04M  90.7MB/s    in 3.6s    \n",
            "\n",
            "2020-06-25 06:22:54 (90.7 MB/s) - ‘/tmp/glove.6B.100d.txt’ saved [347116733/347116733]\n",
            "\n"
          ],
          "name": "stdout"
        }
      ]
    },
    {
      "cell_type": "code",
      "metadata": {
        "id": "I4_RH1GtNJ6z",
        "colab_type": "code",
        "colab": {
          "base_uri": "https://localhost:8080/",
          "height": 1000
        },
        "outputId": "179ac5b9-5867-48fb-905e-d25964cfa170"
      },
      "source": [
        "#no need to run this, we'll be using saved model\n",
        "\n",
        "model = tf.keras.Sequential([\n",
        "   tf.keras.layers. Embedding(vocab_size+1, embedding_dim, weights=[embeddings_matrix], input_length=max_length, trainable=False),\n",
        "   tf.keras.layers.Dropout(0.3), \n",
        "   tf.keras.layers.Conv1D(128, 5, activation='relu'),\n",
        "   tf.keras.layers.MaxPooling1D(pool_size=4),\n",
        "   tf.keras.layers.Conv1D(256, 3, activation='relu'),\n",
        "   tf.keras.layers.MaxPooling1D(pool_size=2),\n",
        "    tf.keras.layers.LSTM(128, dropout=0.2, recurrent_dropout=0.2),\n",
        "    tf.keras.layers.Dense(64, activation='relu'),\n",
        "    tf.keras.layers.Dense(1, activation='sigmoid')\n",
        "])\n",
        "model.compile(loss='binary_crossentropy', optimizer='adam', metrics='accuracy') \n",
        "model.summary()\n",
        "\n",
        "num_epochs = 25\n",
        "history = model.fit(train_sequences, train_labels, batch_size = 1024, epochs=num_epochs,steps_per_epoch=200, validation_data=(val_sequences, val_labels), verbose=2)\n",
        "\n",
        "print(\"Complete\")"
      ],
      "execution_count": null,
      "outputs": [
        {
          "output_type": "stream",
          "text": [
            "Model: \"sequential_4\"\n",
            "_________________________________________________________________\n",
            "Layer (type)                 Output Shape              Param #   \n",
            "=================================================================\n",
            "embedding_4 (Embedding)      (None, 100, 100)          24738300  \n",
            "_________________________________________________________________\n",
            "dropout_4 (Dropout)          (None, 100, 100)          0         \n",
            "_________________________________________________________________\n",
            "conv1d_8 (Conv1D)            (None, 96, 128)           64128     \n",
            "_________________________________________________________________\n",
            "max_pooling1d_8 (MaxPooling1 (None, 24, 128)           0         \n",
            "_________________________________________________________________\n",
            "conv1d_9 (Conv1D)            (None, 22, 256)           98560     \n",
            "_________________________________________________________________\n",
            "max_pooling1d_9 (MaxPooling1 (None, 11, 256)           0         \n",
            "_________________________________________________________________\n",
            "lstm_4 (LSTM)                (None, 128)               197120    \n",
            "_________________________________________________________________\n",
            "dense_7 (Dense)              (None, 64)                8256      \n",
            "_________________________________________________________________\n",
            "dense_8 (Dense)              (None, 1)                 65        \n",
            "=================================================================\n",
            "Total params: 25,106,429\n",
            "Trainable params: 368,129\n",
            "Non-trainable params: 24,738,300\n",
            "_________________________________________________________________\n",
            "Epoch 1/25\n",
            "200/200 - 346s - loss: 0.6126 - accuracy: 0.6562 - val_loss: 0.5615 - val_accuracy: 0.7065\n",
            "Epoch 2/25\n",
            "200/200 - 350s - loss: 0.5700 - accuracy: 0.6982 - val_loss: 0.5389 - val_accuracy: 0.7247\n",
            "Epoch 3/25\n",
            "200/200 - 344s - loss: 0.5581 - accuracy: 0.7072 - val_loss: 0.5318 - val_accuracy: 0.7310\n",
            "Epoch 4/25\n",
            "200/200 - 349s - loss: 0.5516 - accuracy: 0.7126 - val_loss: 0.5368 - val_accuracy: 0.7245\n",
            "Epoch 5/25\n",
            "200/200 - 344s - loss: 0.5463 - accuracy: 0.7183 - val_loss: 0.5255 - val_accuracy: 0.7361\n",
            "Epoch 6/25\n",
            "200/200 - 346s - loss: 0.5445 - accuracy: 0.7185 - val_loss: 0.5197 - val_accuracy: 0.7388\n",
            "Epoch 7/25\n",
            "200/200 - 345s - loss: 0.5405 - accuracy: 0.7212 - val_loss: 0.5202 - val_accuracy: 0.7384\n",
            "Epoch 8/25\n",
            "200/200 - 341s - loss: 0.5354 - accuracy: 0.7255 - val_loss: 0.5146 - val_accuracy: 0.7442\n",
            "Epoch 9/25\n",
            "200/200 - 344s - loss: 0.5320 - accuracy: 0.7291 - val_loss: 0.5143 - val_accuracy: 0.7427\n",
            "Epoch 10/25\n",
            "200/200 - 341s - loss: 0.5317 - accuracy: 0.7279 - val_loss: 0.5128 - val_accuracy: 0.7429\n",
            "Epoch 11/25\n",
            "200/200 - 344s - loss: 0.5322 - accuracy: 0.7277 - val_loss: 0.5117 - val_accuracy: 0.7458\n",
            "Epoch 12/25\n",
            "200/200 - 344s - loss: 0.5303 - accuracy: 0.7288 - val_loss: 0.5109 - val_accuracy: 0.7458\n",
            "Epoch 13/25\n",
            "200/200 - 345s - loss: 0.5299 - accuracy: 0.7307 - val_loss: 0.5103 - val_accuracy: 0.7469\n",
            "Epoch 14/25\n",
            "200/200 - 345s - loss: 0.5303 - accuracy: 0.7295 - val_loss: 0.5079 - val_accuracy: 0.7485\n",
            "Epoch 15/25\n",
            "200/200 - 341s - loss: 0.5236 - accuracy: 0.7347 - val_loss: 0.5070 - val_accuracy: 0.7485\n",
            "Epoch 16/25\n",
            "200/200 - 348s - loss: 0.5240 - accuracy: 0.7345 - val_loss: 0.5054 - val_accuracy: 0.7498\n",
            "Epoch 17/25\n",
            "200/200 - 346s - loss: 0.5247 - accuracy: 0.7337 - val_loss: 0.5057 - val_accuracy: 0.7498\n",
            "Epoch 18/25\n",
            "200/200 - 347s - loss: 0.5226 - accuracy: 0.7356 - val_loss: 0.5039 - val_accuracy: 0.7500\n",
            "Epoch 19/25\n",
            "200/200 - 346s - loss: 0.5235 - accuracy: 0.7348 - val_loss: 0.5034 - val_accuracy: 0.7504\n",
            "Epoch 20/25\n",
            "200/200 - 348s - loss: 0.5220 - accuracy: 0.7356 - val_loss: 0.5020 - val_accuracy: 0.7516\n",
            "Epoch 21/25\n",
            "200/200 - 347s - loss: 0.5201 - accuracy: 0.7367 - val_loss: 0.5031 - val_accuracy: 0.7495\n",
            "Epoch 22/25\n",
            "200/200 - 343s - loss: 0.5163 - accuracy: 0.7404 - val_loss: 0.5035 - val_accuracy: 0.7515\n",
            "Epoch 23/25\n",
            "200/200 - 345s - loss: 0.5185 - accuracy: 0.7384 - val_loss: 0.5021 - val_accuracy: 0.7515\n",
            "Epoch 24/25\n",
            "200/200 - 344s - loss: 0.5200 - accuracy: 0.7374 - val_loss: 0.5015 - val_accuracy: 0.7537\n",
            "Epoch 25/25\n",
            "200/200 - 346s - loss: 0.5178 - accuracy: 0.7392 - val_loss: 0.5022 - val_accuracy: 0.7521\n",
            "Complete\n"
          ],
          "name": "stdout"
        }
      ]
    },
    {
      "cell_type": "markdown",
      "metadata": {
        "id": "yEbsKG2-7YyU",
        "colab_type": "text"
      },
      "source": [
        ""
      ]
    },
    {
      "cell_type": "code",
      "metadata": {
        "id": "6A_TwccJNKFE",
        "colab_type": "code",
        "colab": {
          "base_uri": "https://localhost:8080/",
          "height": 608
        },
        "outputId": "2cdc125f-aa5c-42ad-abaf-d4b854440bcd"
      },
      "source": [
        "#will only work if above cell is run as this code plots training progress \n",
        "import matplotlib.image  as mpimg\n",
        "import matplotlib.pyplot as plt\n",
        "\n",
        "\n",
        "acc=history.history['accuracy']\n",
        "val_acc=history.history['val_accuracy']\n",
        "loss=history.history['loss']\n",
        "val_loss=history.history['val_loss']\n",
        "\n",
        "epochs=range(len(acc))\n",
        "plt.plot(epochs, acc, 'r')\n",
        "plt.plot(epochs, val_acc, 'b')\n",
        "plt.title('Training and validation accuracy')\n",
        "plt.xlabel(\"Epochs\")\n",
        "plt.ylabel(\"Accuracy\")\n",
        "plt.legend([\"Accuracy\", \"Validation Accuracy\"])\n",
        "\n",
        "plt.figure()\n",
        "\n",
        "\n",
        "plt.plot(epochs, loss, 'r')\n",
        "plt.plot(epochs, val_loss, 'b')\n",
        "plt.title('Training and validation loss')\n",
        "plt.xlabel(\"Epochs\")\n",
        "plt.ylabel(\"Loss\")\n",
        "plt.legend([\"Loss\", \"Validation Loss\"])\n",
        "\n",
        "plt.figure()\n",
        "\n"
      ],
      "execution_count": null,
      "outputs": [
        {
          "output_type": "execute_result",
          "data": {
            "text/plain": [
              "<Figure size 432x288 with 0 Axes>"
            ]
          },
          "metadata": {
            "tags": []
          },
          "execution_count": 24
        },
        {
          "output_type": "display_data",
          "data": {
            "image/png": "[encoded data removed]",
            "text/plain": [
              "<Figure size 432x288 with 1 Axes>"
            ]
          },
          "metadata": {
            "tags": [],
            "needs_background": "light"
          }
        },
        {
          "output_type": "display_data",
          "data": {
            "image/png": "[encoded data removed]",
            "text/plain": [
              "<Figure size 432x288 with 1 Axes>"
            ]
          },
          "metadata": {
            "tags": [],
            "needs_background": "light"
          }
        },
        {
          "output_type": "display_data",
          "data": {
            "text/plain": [
              "<Figure size 432x288 with 0 Axes>"
            ]
          },
          "metadata": {
            "tags": []
          }
        }
      ]
    },
    {
      "cell_type": "code",
      "metadata": {
        "id": "zQFmWHYANKQP",
        "colab_type": "code",
        "colab": {
          "base_uri": "https://localhost:8080/",
          "height": 107
        },
        "outputId": "0bc629c0-62cd-4f22-af78-0fb92f2ff919"
      },
      "source": [
        "#saving the model if trained\n",
        "model.save('/content/drive/My Drive/sentiment analysis/fullmodel7475')"
      ],
      "execution_count": null,
      "outputs": [
        {
          "output_type": "stream",
          "text": [
            "WARNING:tensorflow:From /usr/local/lib/python3.6/dist-packages/tensorflow/python/ops/resource_variable_ops.py:1817: calling BaseResourceVariable.__init__ (from tensorflow.python.ops.resource_variable_ops) with constraint is deprecated and will be removed in a future version.\n",
            "Instructions for updating:\n",
            "If using Keras pass *_constraint arguments to layers.\n",
            "INFO:tensorflow:Assets written to: /content/drive/My Drive/sentiment analysis/fullmodel7475/assets\n"
          ],
          "name": "stdout"
        }
      ]
    },
    {
      "cell_type": "code",
      "metadata": {
        "id": "y1hM_k5HjsZz",
        "colab_type": "code",
        "colab": {}
      },
      "source": [
        "import json"
      ],
      "execution_count": null,
      "outputs": []
    },
    {
      "cell_type": "code",
      "metadata": {
        "id": "kuATFuDGVihY",
        "colab_type": "code",
        "colab": {}
      },
      "source": [
        "#load model\n",
        "\n",
        "model = tf.keras.models.load_model('/content/drive/My Drive/sentiment analysis/fullmodel7475')"
      ],
      "execution_count": null,
      "outputs": []
    },
    {
      "cell_type": "code",
      "metadata": {
        "id": "0x4B8ClENKZ7",
        "colab_type": "code",
        "colab": {
          "base_uri": "https://localhost:8080/",
          "height": 34
        },
        "outputId": "9f152e30-b436-4cf0-b80c-486e4090283d"
      },
      "source": [
        "#test data evaluation\n",
        "score = model.evaluate(test_seq, y_test, batch_size=64)"
      ],
      "execution_count": null,
      "outputs": [
        {
          "output_type": "stream",
          "text": [
            "6/6 [==============================] - 0s 26ms/step - loss: 0.4652 - accuracy: 0.7855\n"
          ],
          "name": "stdout"
        }
      ]
    },
    {
      "cell_type": "code",
      "metadata": {
        "id": "KAngPjtyrB-H",
        "colab_type": "code",
        "colab": {
          "base_uri": "https://localhost:8080/",
          "height": 125
        },
        "outputId": "08c22222-f8d4-4c21-eae8-ab9cbd58915c"
      },
      "source": [
        "from google.colab import drive\n",
        "drive.mount('/content/drive')"
      ],
      "execution_count": 3,
      "outputs": [
        {
          "output_type": "stream",
          "text": [
            "Go to this URL in a browser: https://accounts.google.com/o/oauth2/auth?client_id=947318989803-6bn6qk8qdgf4n4g3pfee6491hc0brc4i.apps.googleusercontent.com&redirect_uri=urn%3aietf%3awg%3aoauth%3a2.0%3aoob&response_type=code&scope=email%20https%3a%2f%2fwww.googleapis.com%2fauth%2fdocs.test%20https%3a%2f%2fwww.googleapis.com%2fauth%2fdrive%20https%3a%2f%2fwww.googleapis.com%2fauth%2fdrive.photos.readonly%20https%3a%2f%2fwww.googleapis.com%2fauth%2fpeopleapi.readonly\n",
            "\n",
            "Enter your authorization code:\n",
            "··········\n",
            "Mounted at /content/drive\n"
          ],
          "name": "stdout"
        }
      ]
    },
    {
      "cell_type": "code",
      "metadata": {
        "id": "QIhOLn7gNKuP",
        "colab_type": "code",
        "colab": {
          "base_uri": "https://localhost:8080/",
          "height": 246
        },
        "outputId": "2af56117-e6fb-45fb-bac4-04b227da3b09"
      },
      "source": [
        "#django \n",
        "twt = \"I currently use the Nikon D90 and love it, but not as much as the Canon 40D/50D. I chose the D90 for the video feature. My mistake\"\n",
        "\n",
        "import re\n",
        "import string\n",
        "import numpy as np\n",
        "import pickle\n",
        "\n",
        "import tensorflow as tf\n",
        "from tensorflow.keras.preprocessing.text import Tokenizer\n",
        "from tensorflow.keras.preprocessing.sequence import pad_sequences\n",
        "import nltk\n",
        "from  nltk.stem import SnowballStemmer\n",
        "stemmer = SnowballStemmer(\"english\")\n",
        "\n",
        "embedding_dim = 100\n",
        "max_length = 100\n",
        "trunc_type='post'\n",
        "padding_type='post'\n",
        "oov_tok = \"<OOV>\"\n",
        "stop_words = ['i', 'me', 'my', 'myself', 'we', 'our', 'ours', 'ourselves', 'you', \"you're\", \"you've\", \"you'll\", \"you'd\", 'your', 'yours', 'yourself', 'yourselves', 'he', 'him', 'his', 'himself', 'she', \"she's\", 'her', 'hers', 'herself', 'it', \"it's\", 'its', 'itself', 'they', 'them', 'their', 'theirs', 'themselves', 'what', 'which', 'who', 'whom', 'this', 'that', \"that'll\", 'these', 'those', 'am', 'is', 'are', 'was', 'were', 'be', 'been', 'being', 'have', 'has', 'had', 'having', 'do', 'does', 'did', 'doing', 'a', 'an', 'the', 'and', 'but', 'if', 'or', 'because', 'as', 'until', 'while', 'of', 'at', 'by', 'for', 'with', 'about', 'against', 'between', 'into', 'through', 'during', 'before', 'after', 'above', 'below', 'to', 'from', 'up', 'down', 'in', 'out', 'on', 'off', 'over', 'under', 'again', 'further', 'then', 'once', 'here', 'there', 'when', 'where', 'why', 'how', 'all', 'any', 'both', 'each', 'few', 'more', 'most', 'other', 'some', 'such', 'nor', 'only', 'own', 'same', 'so', 'than', 'too', 'very', 's', 't', 'can', 'will', 'just', 'don', 'should', \"should've\", 'now', 'd', 'll', 'm', 'o', 're', 've', 'y', 'ain', 'aren', \"aren't\", 'couldn', \"couldn't\", 'didn', \"didn't\", 'doesn', \"doesn't\", 'hadn', \"hadn't\", 'hasn', \"hasn't\", 'haven', \"haven't\", 'isn', \"isn't\", 'ma', 'mightn', \"mightn't\", 'mustn', \"mustn't\", 'needn', \"needn't\", 'shan', \"shan't\", 'shouldn', \"shouldn't\", 'wasn', \"wasn't\", 'weren', \"weren't\", 'won', \"won't\", 'wouldn', \"wouldn't\"]\n",
        "#stop_words = ['list of stop words'] # i'll provide this\n",
        "\n",
        "def strip_links(text):\n",
        "    link_regex    = re.compile('((https?):((//)|(\\\\\\\\))+([\\w\\d:#@%/;$()~_?\\+-=\\\\\\.&](#!)?)*)', re.DOTALL)\n",
        "    links         = re.findall(link_regex, text)\n",
        "    for link in links:\n",
        "        text = text.replace(link[0], ', ')    \n",
        "    return text\n",
        "\n",
        "def strip_all_entities(text):\n",
        "    entity_prefixes = ['@','#']\n",
        "    for separator in  string.punctuation:\n",
        "        if separator not in entity_prefixes :\n",
        "            text = text.replace(separator,' ')\n",
        "    words = []\n",
        "    for word in text.split():\n",
        "        word = word.strip()\n",
        "        if word:\n",
        "            if word[0] not in entity_prefixes:\n",
        "                words.append(word)\n",
        "    return ' '.join(words)\n",
        "\n",
        "def preprocess(line):\n",
        "    line = line.lower()\n",
        "    #stopwords removal\n",
        "    for word in stop_words:\n",
        "      token = \" \" + word + \" \"\n",
        "      line = line.replace(token, \" \")\n",
        "      line = line.replace(\"  \", \" \")\n",
        "    #stemming   \n",
        "    tokens = []\n",
        "    for token in line.split():\n",
        "      tokens.append(stemmer.stem(token))\n",
        "    return \" \".join(tokens)\n",
        "\n",
        "twt = strip_links(twt)    #optional\n",
        "twt = strip_all_entities(twt)  #optional (it removes @username #name)\n",
        "twt = preprocess(twt)\n",
        "print(twt)\n",
        "list_form = []        # convert to ['input']\n",
        "list_form.append(twt)\n",
        "\n",
        "tokenizer= Tokenizer(oov_token=oov_tok)\n",
        "tokenizer = pickle.load(open(\"/content/drive/My Drive/sentiment analysis/tokenizer.p\", \"rb\"))\n",
        "##word_index = pickle.load(open(\"/content/drive/My Drive/sentiment analysis/wordindex.p\", \"rb\"))    #these two lines can be omitted, just kept here to see word word index\n",
        "##vocab_size = len(word_index)\n",
        "model = tf.keras.models.load_model('/content/drive/My Drive/sentiment analysis/fullmodel7475')\n",
        "\n",
        "twt = tokenizer.texts_to_sequences(list_form)\n",
        "twt = pad_sequences(twt, maxlen=max_length, padding = padding_type, truncating=trunc_type)\n",
        "\n",
        "print(twt)\n",
        "sentiment = model.predict(twt,batch_size=1,verbose = 2)[0]\n",
        "ans = np.around(sentiment)\n",
        "print(sentiment)\n",
        "if ans ==1:\n",
        "  print('positive')\n",
        "else:\n",
        "  print('negative')"
      ],
      "execution_count": 8,
      "outputs": [
        {
          "output_type": "stream",
          "text": [
            "i current use nikon d90 love not much canon 40d 50d chose d90 video featur mistak\n",
            "[[    2   793   102  6647 16871     9   201    44  4610 27648 25433  3692\n",
            "  16871   252  1438  1723     0     0     0     0     0     0     0     0\n",
            "      0     0     0     0     0     0     0     0     0     0     0     0\n",
            "      0     0     0     0     0     0     0     0     0     0     0     0\n",
            "      0     0     0     0     0     0     0     0     0     0     0     0\n",
            "      0     0     0     0     0     0     0     0     0     0     0     0\n",
            "      0     0     0     0     0     0     0     0     0     0     0     0\n",
            "      0     0     0     0     0     0     0     0     0     0     0     0\n",
            "      0     0     0     0]]\n",
            "1/1 - 0s\n",
            "[0.75352895]\n",
            "positive\n"
          ],
          "name": "stdout"
        }
      ]
    },
    {
      "cell_type": "code",
      "metadata": {
        "id": "iZGiel0YNK20",
        "colab_type": "code",
        "colab": {}
      },
      "source": [
        ""
      ],
      "execution_count": null,
      "outputs": []
    },
    {
      "cell_type": "code",
      "metadata": {
        "id": "17sBxqUiNLJ0",
        "colab_type": "code",
        "colab": {}
      },
      "source": [
        ""
      ],
      "execution_count": null,
      "outputs": []
    }
  ]
}